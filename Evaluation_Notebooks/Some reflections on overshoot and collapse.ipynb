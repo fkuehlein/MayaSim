{
 "cells": [
  {
   "cell_type": "markdown",
   "metadata": {},
   "source": [
    "# Reflections on overshoot and collapse in the Mayasim Model\n",
    "\n",
    "Without birth controll, the population dynamic in the model is given roughly by a constant birth rate and a death rate inversely scalled to gdp/capita. eg.\n",
    "\n",
    "dP/dt = P*(alpha - (beta_1 - (beta_1 - beta_2)*f(gdp/P)))\n",
    "\n",
    "dP/dt = P*(alpha' - beta'*f(gdp/P))),    alpha' > 0.\n",
    "\n",
    "This has a fixed point at\n",
    "\n",
    "f(gdp/P) = (alpha')/(beta') = (alpha - beta_1)/(beta_1 - beta_2).\n",
    "\n",
    "Therefore, if population dynamics is suficiently fast, **gdp/P is fixed to this fixed point value** and only gdp and population only vary with their ratio fixed.\n",
    "This is the definition of the **Malthusian trap**.\n",
    "\n",
    "Model results show that newly founded settlements have relatively high gdp/P but then quickly converge to higher populations and lower gdp/P. Then, settlements change in size but share the same value of gdp/P.\n",
    "\n",
    "The next questions are then \n",
    "* *how can agricultural production be described?* and\n",
    "* *is there a self enforcing cycle of **population growth -> new cells cropped -> population growth?***\n",
    "\n",
    "If so, then there are two processes governing population growth and settlement spreading. Population growth is driven by more people being able to sustain more crops and more crops being able to sustain even more people.\n",
    "And outward migration for new settlements is simply given by\n",
    "\n",
    "mig = P*(r_max - (r_max - r_min)*g(gdp/P))\n",
    "\n",
    "and **since gdp/P is fixed, the out migrating population is simply driven by population growth.**\n",
    "\n",
    "*About the **population growth -> new cells cropped -> population growth thing:***\n",
    "\n",
    "The number of newly cropped cells is given by:\n",
    "\n",
    "new_cells = floor(population / cropped_area * max_pop_per_cropped_area)\n",
    "\n",
    "e.g. **if the population/cropped_area exceeds some threshold, a new cell is cropped**. This means, as long as each new cell provides suficient new income to grow the population beyond this threshold again, the population will grow without bounds. \n",
    "\n",
    "If each cell provides more income than needed for the max. population per cell, then there is a self enforcing circle between #cropped cells and population growth rate.\n",
    "\n",
    "This feedback loop is in place as long as new cells have positive utility since **Cells with negative utility are abandoned.**\n",
    "\n",
    "utility = bca - establishment_cost - (travel_cost*distance)/sqrt(city_population)\n",
    "\n",
    "Once established, this can only happen due to decreasing city population of decreasing return from agriculture (bca).\n",
    "\n",
    "Therefore, we have to look at how revenue is generated in the agricultural sector:\n",
    "\n",
    "income = sum_{cropped_cells} bca\n",
    "bca = f(ag) = max_bca*(1 - C*exp(-d * ag))\n",
    "ag = g(npp, wf) = a * npp + b * soil_productivity - c * slope - d * waterflow - soil_degradation\n",
    "\n",
    "so with regards to soil degradation, income from cells is\n",
    "\n",
    "bca = max_bca*(1 - C*exp(d * soil_degradation + d'))\n",
    "\n",
    "Now the final question is: what is the dynamics behind soil degradation?\n",
    "\n",
    "**soil degrades at constant rate if cell is cropped**\n",
    "\n",
    "dS/dt = -r_s\n",
    "\n",
    "**soil regenerates with the same constant rate, if cell is climax forest**\n",
    "\n",
    "dS/dt = r_s\n",
    "\n",
    "*To be continued...*\n"
   ]
  },
  {
   "cell_type": "code",
   "execution_count": null,
   "metadata": {
    "collapsed": true
   },
   "outputs": [],
   "source": []
  }
 ],
 "metadata": {
  "kernelspec": {
   "display_name": "Python 3",
   "language": "python",
   "name": "python3"
  },
  "language_info": {
   "codemirror_mode": {
    "name": "ipython",
    "version": 3
   },
   "file_extension": ".py",
   "mimetype": "text/x-python",
   "name": "python",
   "nbconvert_exporter": "python",
   "pygments_lexer": "ipython3",
   "version": "3.6.0"
  }
 },
 "nbformat": 4,
 "nbformat_minor": 2
}

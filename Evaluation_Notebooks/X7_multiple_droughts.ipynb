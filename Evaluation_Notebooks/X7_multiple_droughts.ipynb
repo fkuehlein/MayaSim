{
 "cells": [
  {
   "cell_type": "markdown",
   "metadata": {},
   "source": [
    "Here, I want to know, if multiple droughts have bigger impact and lead to less recovery than just one drought event."
   ]
  },
  {
   "cell_type": "code",
   "execution_count": 2,
   "metadata": {
    "collapsed": false
   },
   "outputs": [
    {
     "name": "stdout",
     "output_type": "stream",
     "text": [
      "Populating the interactive namespace from numpy and matplotlib\n"
     ]
    },
    {
     "data": {
      "text/plain": [
       "FrozenList([[0.0, 20.0, 40.0, 60.0], [6000, 8000, 10000], [0, 1, 2, 3, 4, 5, 6, 7, 8, 9, 10, 11, 12, 13, 14, 15, 16, 17, 18, 19, 20, 21, 22, 23, 24, 25, 26, 27, 28, 29, 30, 31, 32, 33, 34, 35, 36, 37, 38, 39, 40, 41, 42, 43, 44, 45, 46, 47, 48, 49, 50, 51, 52, 53, 54, 55, 56, 57, 58, 59, 60, 61, 62, 63, 64, 65, 66, 67, 68, 69, 70, 71, 72, 73, 74, 75, 76, 77, 78, 79, 80, 81, 82, 83, 84, 85, 86, 87, 88, 89, 90, 91, 92, 93, 94, 95, 96, 97, 98, 99, ...], ['MAP', 'built trade links', 'es_income_agricultural_productivity', 'es_income_forest', 'es_income_pop_density', 'es_income_precipitation', 'es_income_waterflow', 'forest_state_1_cells', 'forest_state_2_cells', 'forest_state_3_cells', 'killed settlements', 'lost trade links', 'max_AG', 'max_ES', 'max_bca', 'max_cluster_size', 'max_npp', 'max_pop_grad', 'max_soil_deg', 'mean_cluster_size', 'mean_soil_degradation', 'mean_waterflow', 'new settlements', 'time', 'total_agriculture_cells', 'total_cells_in_influence', 'total_income_agriculture', 'total_income_ecosystem', 'total_income_trade', 'total_migrants', 'total_population', 'total_settlements', 'total_trade_links']])"
      ]
     },
     "execution_count": 2,
     "metadata": {},
     "output_type": "execute_result"
    }
   ],
   "source": [
    "%pylab inline\n",
    "pylab.rcParams['figure.figsize'] = (14, 6)\n",
    "\n",
    "import pandas as pd\n",
    "import numpy as np\n",
    "import matplotlib.pyplot as plt\n",
    "import matplotlib as mpl\n",
    "\n",
    "d_start = 150\n",
    "d_length = 20\n",
    "\n",
    "testing = False\n",
    "\n",
    "location = '/home/jakob/Project_MayaSim/Python/output_data/X7_multiple_droughts/results/trajectory'\n",
    "if testing:\n",
    "    location = '/home/jakob/Project_MayaSim/Python/output_data/test_output/X7_multiple_droughts/results/trajectory'\n",
    "    \n",
    "data = pd.read_pickle(location)\n",
    "#data = np.load(location)\n",
    "\n",
    "def plot_figure(ax, d, r, k, obs, d_start):\n",
    "    ax.set_title('{}) d_length = {}, r_trade = {}'.format(k, d, r))\n",
    "    dt = data['<mean_trajectories>'].xs(level=('d_length', 'r_trade', 'observables'), key=(d, r, obs)).unstack('d_severity')\n",
    "    de = data['<sigma_trajectories>'].xs(level=('d_length', 'r_trade', 'observables'), key=(d, r, obs)).unstack('d_severity')\n",
    "    dt.plot(ax=ax)\n",
    "    for d_sev in de.columns.values:\n",
    "        dtt = de.index.values\n",
    "        ddt = dt[d_sev].values\n",
    "        dde = de[d_sev].values\n",
    "        plt.fill_between(dtt, ddt - dde, ddt + dde, alpha=0.2)\n",
    "\n",
    "    ax.set_ylabel(obs)\n",
    "    ax.axvspan(d_start, d_start + d - 1, alpha=0.5, color='grey')\n",
    "\n",
    "data.index.levels"
   ]
  },
  {
   "cell_type": "code",
   "execution_count": 11,
   "metadata": {
    "collapsed": false
   },
   "outputs": [
    {
     "data": {
      "image/png": "[encoded data removed]",
      "text/plain": [
       "<matplotlib.figure.Figure at 0x7fbdca521c50>"
      ]
     },
     "metadata": {},
     "output_type": "display_data"
    }
   ],
   "source": [
    "pylab.rcParams['figure.figsize'] = (16, 5)\n",
    "\n",
    "d_lengths = data.index.levels[0].values\n",
    "r_trades = data.index.levels[1].values\n",
    "\n",
    "fig = plt.figure()\n",
    "k = 0\n",
    "plots = []\n",
    "for j, r in enumerate(r_trades):\n",
    "    k += 1\n",
    "    ax = fig.add_subplot(1, len(r_trades), j + 1)\n",
    "    obs = 'MAP'\n",
    "    ax.set_title('{}) r_trade = {}'.format(k, r))\n",
    "    dt = data['<mean_trajectories>'].xs(level=('r_trade', 'observables'), key=(r, obs)).unstack('d_severity')\n",
    "    #de = data['<sigma_trajectories>'].xs(level=('r_trade', 'observables'), key=(r, obs)).unstack('d_severity')\n",
    "    dt.plot(ax=ax)\n",
    "    #for d_sev in de.columns.values:\n",
    "    #    dtt = de.index.values\n",
    "    #    ddt = dt[d_sev].values\n",
    "    #    dde = de[d_sev].values\n",
    "    #    plt.fill_between(dtt, ddt - dde, ddt + dde, alpha=0.2)\n",
    "\n",
    "    ax.set_ylabel(obs)\n",
    "    #ax.axvspan(d_start, d_start + d - 1, alpha=0.5, color='grey')\n",
    "    plots.append((r, k, obs))\n",
    "fig.tight_layout()"
   ]
  },
  {
   "cell_type": "code",
   "execution_count": null,
   "metadata": {
    "collapsed": true
   },
   "outputs": [],
   "source": []
  }
 ],
 "metadata": {
  "kernelspec": {
   "display_name": "Python 3",
   "language": "python",
   "name": "python3"
  },
  "language_info": {
   "codemirror_mode": {
    "name": "ipython",
    "version": 3
   },
   "file_extension": ".py",
   "mimetype": "text/x-python",
   "name": "python",
   "nbconvert_exporter": "python",
   "pygments_lexer": "ipython3",
   "version": "3.6.0"
  }
 },
 "nbformat": 4,
 "nbformat_minor": 2
}
